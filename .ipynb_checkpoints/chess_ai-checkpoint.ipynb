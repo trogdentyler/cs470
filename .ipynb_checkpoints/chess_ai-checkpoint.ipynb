{
 "cells": [
  {
   "cell_type": "code",
   "execution_count": 1,
   "id": "f1c713cf",
   "metadata": {
    "ExecuteTime": {
     "end_time": "2022-12-13T17:57:13.543594Z",
     "start_time": "2022-12-13T17:57:12.530799Z"
    }
   },
   "outputs": [],
   "source": [
    "import chess\n",
    "import chess.svg\n",
    "import chess.pgn\n",
    "import chess.engine\n",
    "import chess.polyglot as cpg\n",
    "import traceback\n",
    "import webbrowser\n",
    "import time\n",
    "import numpy as np\n",
    "from IPython.display import SVG\n",
    "from flask import Flask, Response, request"
   ]
  },
  {
   "cell_type": "code",
   "execution_count": 2,
   "id": "419f3507",
   "metadata": {
    "ExecuteTime": {
     "end_time": "2022-12-13T17:57:13.549229Z",
     "start_time": "2022-12-13T17:57:13.545218Z"
    },
    "code_folding": [
     14
    ]
   },
   "outputs": [],
   "source": [
    "max_depth = 5\n",
    "\n",
    "move_counter = 0\n",
    "open_game = 8\n",
    "\n",
    "white = chess.WHITE\n",
    "black = chess.BLACK\n",
    "\n",
    "pawn = chess.PAWN\n",
    "knight = chess.KNIGHT\n",
    "bishop = chess.BISHOP\n",
    "rook = chess.ROOK\n",
    "queen = chess.QUEEN\n",
    "king = chess.KING\n",
    "\n",
    "pieces = [pawn, knight, bishop, rook, queen, king]\n",
    "\n",
    "pawn_table = [0, 0, 0, 0, 0, 0, 0, 0,\n",
    "    5, 10, 10, -20, -20, 10, 10, 5,\n",
    "    5, -5, -10, 0, 0, -10, -5, 5,\n",
    "    0, 0, 0, 20, 20, 0, 0, 0,\n",
    "    5, 5, 10, 25, 25, 10, 5, 5,\n",
    "    10, 10, 20, 30, 30, 20, 10, 10,\n",
    "    50, 50, 50, 50, 50, 50, 50, 50,\n",
    "    0, 0, 0, 0, 0, 0, 0, 0]"
   ]
  },
  {
   "cell_type": "code",
   "execution_count": 3,
   "id": "76180632",
   "metadata": {
    "ExecuteTime": {
     "end_time": "2022-12-13T17:57:13.553643Z",
     "start_time": "2022-12-13T17:57:13.550466Z"
    },
    "code_folding": [
     0
    ]
   },
   "outputs": [],
   "source": [
    "knight_table = [\n",
    "    -50, -40, -30, -30, -30, -30, -40, -50,\n",
    "    -40, -20, 0, 5, 5, 0, -20, -40,\n",
    "    -30, 5, 10, 15, 15, 10, 5, -30,\n",
    "    -30, 0, 15, 20, 20, 15, 0, -30,\n",
    "    -30, 5, 15, 20, 20, 15, 5, -30,\n",
    "    -30, 0, 10, 15, 15, 10, 0, -30,\n",
    "    -40, -20, 0, 0, 0, 0, -20, -40,\n",
    "    -50, -40, -30, -30, -30, -30, -40, -50]"
   ]
  },
  {
   "cell_type": "code",
   "execution_count": 4,
   "id": "9c90ad43",
   "metadata": {
    "ExecuteTime": {
     "end_time": "2022-12-13T17:57:13.558318Z",
     "start_time": "2022-12-13T17:57:13.555095Z"
    },
    "code_folding": [
     0
    ]
   },
   "outputs": [],
   "source": [
    "bishop_table = [\n",
    "    -20, -10, -10, -10, -10, -10, -10, -20,\n",
    "    -10, 5, 0, 0, 0, 0, 5, -10,\n",
    "    -10, 10, 10, 10, 10, 10, 10, -10,\n",
    "    -10, 0, 10, 10, 10, 10, 0, -10,\n",
    "    -10, 5, 5, 10, 10, 5, 5, -10,\n",
    "    -10, 0, 5, 10, 10, 5, 0, -10,\n",
    "    -10, 0, 0, 0, 0, 0, 0, -10,\n",
    "    -20, -10, -10, -10, -10, -10, -10, -20]"
   ]
  },
  {
   "cell_type": "code",
   "execution_count": 5,
   "id": "243d60d2",
   "metadata": {
    "ExecuteTime": {
     "end_time": "2022-12-13T17:57:13.563886Z",
     "start_time": "2022-12-13T17:57:13.560917Z"
    },
    "code_folding": [
     0
    ]
   },
   "outputs": [],
   "source": [
    "rook_table = [\n",
    "    0, 0, 0, 5, 5, 0, 0, 0,\n",
    "    -5, 0, 0, 0, 0, 0, 0, -5,\n",
    "    -5, 0, 0, 0, 0, 0, 0, -5,\n",
    "    -5, 0, 0, 0, 0, 0, 0, -5,\n",
    "    -5, 0, 0, 0, 0, 0, 0, -5,\n",
    "    -5, 0, 0, 0, 0, 0, 0, -5,\n",
    "    5, 10, 10, 10, 10, 10, 10, 5,\n",
    "    0, 0, 0, 0, 0, 0, 0, 0]"
   ]
  },
  {
   "cell_type": "code",
   "execution_count": 6,
   "id": "e93588fc",
   "metadata": {
    "ExecuteTime": {
     "end_time": "2022-12-13T17:57:13.568469Z",
     "start_time": "2022-12-13T17:57:13.565297Z"
    },
    "code_folding": [
     0
    ]
   },
   "outputs": [],
   "source": [
    "queen_table = [\n",
    "    -20, -10, -10, -5, -5, -10, -10, -20,\n",
    "    -10, 0, 0, 0, 0, 0, 0, -10,\n",
    "    -10, 5, 5, 5, 5, 5, 0, -10,\n",
    "    0, 0, 5, 5, 5, 5, 0, -5,\n",
    "    -5, 0, 5, 5, 5, 5, 0, -5,\n",
    "    -10, 0, 5, 5, 5, 5, 0, -10,\n",
    "    -10, 0, 0, 0, 0, 0, 0, -10,\n",
    "    -20, -10, -10, -5, -5, -10, -10, -20]"
   ]
  },
  {
   "cell_type": "code",
   "execution_count": 7,
   "id": "3b9db375",
   "metadata": {
    "ExecuteTime": {
     "end_time": "2022-12-13T17:57:13.572964Z",
     "start_time": "2022-12-13T17:57:13.569834Z"
    },
    "code_folding": [
     0
    ]
   },
   "outputs": [],
   "source": [
    "king_table = [\n",
    "    20, 30, 10, 0, 0, 10, 30, 20,\n",
    "    20, 20, 0, 0, 0, 0, 20, 20,\n",
    "    -10, -20, -20, -20, -20, -20, -20, -10,\n",
    "    -20, -30, -30, -40, -40, -30, -30, -20,\n",
    "    -30, -40, -40, -50, -50, -40, -40, -30,\n",
    "    -30, -40, -40, -50, -50, -40, -40, -30,\n",
    "    -30, -40, -40, -50, -50, -40, -40, -30,\n",
    "    -30, -40, -40, -50, -50, -40, -40, -30]"
   ]
  },
  {
   "cell_type": "code",
   "execution_count": 8,
   "id": "4e9d101b",
   "metadata": {
    "ExecuteTime": {
     "end_time": "2022-12-13T17:57:13.576721Z",
     "start_time": "2022-12-13T17:57:13.574519Z"
    }
   },
   "outputs": [],
   "source": [
    "tables = [pawn_table, knight_table, bishop_table, rook_table, queen_table, king_table]"
   ]
  },
  {
   "cell_type": "code",
   "execution_count": 9,
   "id": "6d61941f",
   "metadata": {
    "ExecuteTime": {
     "end_time": "2022-12-13T17:57:13.580987Z",
     "start_time": "2022-12-13T17:57:13.578236Z"
    },
    "code_folding": [
     0
    ]
   },
   "outputs": [],
   "source": [
    "def num_pieces(color):\n",
    "    num_pawns = len(board.pieces(pawn, color))\n",
    "    num_knights = len(board.pieces(knight, color))\n",
    "    num_bishops = len(board.pieces(bishop, color))\n",
    "    num_rooks = len(board.pieces(rook, color))\n",
    "    num_queens = len(board.pieces(queen, color))\n",
    "    num_king = len(board.pieces(king, color))\n",
    "    \n",
    "    return [num_pawns, num_knights, num_bishops, num_rooks, num_queens, num_king]"
   ]
  },
  {
   "cell_type": "code",
   "execution_count": 10,
   "id": "779359c2",
   "metadata": {
    "ExecuteTime": {
     "end_time": "2022-12-13T17:57:13.584953Z",
     "start_time": "2022-12-13T17:57:13.582292Z"
    },
    "code_folding": [
     0
    ]
   },
   "outputs": [],
   "source": [
    "def get_material(num_white_pieces, num_black_pieces):\n",
    "    weights = [100, 320, 330, 500, 900]\n",
    "    n = len(weights)\n",
    "    \n",
    "    material_score = 0\n",
    "    for i in range(n):\n",
    "        material_score += weights[i] * (num_white_pieces[i] - num_black_pieces[i] )\n",
    "    \n",
    "    return material_score"
   ]
  },
  {
   "cell_type": "code",
   "execution_count": 11,
   "id": "5e20ac02",
   "metadata": {
    "ExecuteTime": {
     "end_time": "2022-12-13T17:57:13.589339Z",
     "start_time": "2022-12-13T17:57:13.586274Z"
    },
    "code_folding": [
     0
    ]
   },
   "outputs": [],
   "source": [
    "def get_squares(table, piece):\n",
    "#     if color == white:\n",
    "#         other_color = black\n",
    "#     else:\n",
    "#         other_color = white\n",
    "        \n",
    "    squares = sum([table[i] for i in board.pieces(piece, white)])\n",
    "    squares += sum([-table[chess.square_mirror(i)] for i in board.pieces(piece, black)])\n",
    "    \n",
    "    return squares"
   ]
  },
  {
   "cell_type": "code",
   "execution_count": 12,
   "id": "621350fc",
   "metadata": {
    "ExecuteTime": {
     "end_time": "2022-12-13T17:57:13.594287Z",
     "start_time": "2022-12-13T17:57:13.590818Z"
    },
    "code_folding": [
     0
    ]
   },
   "outputs": [],
   "source": [
    "def evaluation():\n",
    "    if board.is_checkmate():\n",
    "        if board.turn:\n",
    "            return -9999\n",
    "        else:\n",
    "            return 9999\n",
    "    \n",
    "    elif board.is_stalemate() or board.is_insufficient_material():\n",
    "        return 0\n",
    "\n",
    "    else:\n",
    "        num_white_pieces = num_pieces(white)\n",
    "        num_black_pieces = num_pieces(black)\n",
    "\n",
    "        material = get_material(num_white_pieces, num_black_pieces)\n",
    "\n",
    "        squares = 0\n",
    "        for i in range(len(tables)):\n",
    "            squares += get_squares(tables[i], pieces[i])\n",
    "\n",
    "        score = material + squares\n",
    "\n",
    "        if board.turn():\n",
    "            return score\n",
    "        else:\n",
    "            return -score"
   ]
  },
  {
   "cell_type": "code",
   "execution_count": 13,
   "id": "c6390c0c",
   "metadata": {
    "ExecuteTime": {
     "end_time": "2022-12-13T17:57:13.598535Z",
     "start_time": "2022-12-13T17:57:13.595754Z"
    },
    "code_folding": [
     0
    ]
   },
   "outputs": [],
   "source": [
    "def get_negamax_move():\n",
    "    move_counter += 1\n",
    "    \n",
    "    if move_counter <= open_game:\n",
    "        return get_opening_move()\n",
    "    else:\n",
    "        alpha = -np.inf\n",
    "        beta = np.inf\n",
    "        depth = 0\n",
    "\n",
    "        [best_move, _] = negamax_alpha_beta(alpha, beta, depth)\n",
    "\n",
    "        return best_move"
   ]
  },
  {
   "cell_type": "code",
   "execution_count": 14,
   "id": "4246d134",
   "metadata": {
    "ExecuteTime": {
     "end_time": "2022-12-13T17:57:13.606129Z",
     "start_time": "2022-12-13T17:57:13.602559Z"
    },
    "code_folding": [
     0
    ]
   },
   "outputs": [],
   "source": [
    "def negamax(alpha, beta, depth):\n",
    "    best_move = chess.Move.null()\n",
    "    max_value = -np.inf\n",
    "    \n",
    "    if depth > max_depth:\n",
    "        return [best_move, quiescence_search(alpha, beta)]\n",
    "    \n",
    "    for move in board.legal_moves():\n",
    "        board.push(move)\n",
    "        [_, board_value] = -negamax(-alpha, -beta, depth + 1)\n",
    "        board.pop()\n",
    "        \n",
    "        if board_value > max_value:\n",
    "            max_value = board_value\n",
    "            best_move = move\n",
    "        \n",
    "        if board_value >= beta:\n",
    "            return [best_move, beta]\n",
    "            \n",
    "        if board_value > alpha:\n",
    "            alpha = board_value\n",
    "        \n",
    "    return [best_move, alpha]"
   ]
  },
  {
   "cell_type": "code",
   "execution_count": 15,
   "id": "a92bd508",
   "metadata": {
    "ExecuteTime": {
     "end_time": "2022-12-13T17:57:13.610544Z",
     "start_time": "2022-12-13T17:57:13.607668Z"
    },
    "code_folding": [
     0
    ]
   },
   "outputs": [],
   "source": [
    "def quiescence_search(alpha, beta):\n",
    "    stand_pat_score = evaluation()\n",
    "    \n",
    "    if stand_pat_score >= beta:\n",
    "        return beta\n",
    "    \n",
    "    if alpha < stand_pat:\n",
    "        alpha = stand_pat_score\n",
    "        \n",
    "    for move in board.legal_moves:\n",
    "        if board.is_capture(move):\n",
    "            board.push(move)\n",
    "            score = -quiescence_search(-alpha, -beta)\n",
    "            board.pop()\n",
    "            \n",
    "            if( score >= beta ):\n",
    "                return beta\n",
    "            \n",
    "            if( score > alpha ):\n",
    "                alpha = score\n",
    "\n",
    "    return alpha"
   ]
  },
  {
   "cell_type": "code",
   "execution_count": 16,
   "id": "7acf7841",
   "metadata": {
    "ExecuteTime": {
     "end_time": "2022-12-13T17:57:13.614338Z",
     "start_time": "2022-12-13T17:57:13.611851Z"
    },
    "code_folding": [
     0
    ]
   },
   "outputs": [],
   "source": [
    "def get_opening_move():\n",
    "    reader = cpg.MemoryMappedReader(\"/Users/tylertrogden/Documents/CS470/code/proj/pecg_book.bin\")\n",
    "    move = reader.get(board)\n",
    "    reader.close()\n",
    "\n",
    "    return move.move"
   ]
  },
  {
   "cell_type": "code",
   "execution_count": 17,
   "id": "d1a232de",
   "metadata": {
    "ExecuteTime": {
     "end_time": "2022-12-13T17:57:13.625128Z",
     "start_time": "2022-12-13T17:57:13.615781Z"
    },
    "code_folding": [
     1,
     6,
     15,
     31,
     36,
     47,
     67,
     74
    ]
   },
   "outputs": [],
   "source": [
    "# Searching Ai's Move\n",
    "def aimove():\n",
    "    move = get_negamax_move()\n",
    "    board.push(move)\n",
    "\n",
    "# Searching Stockfish's Move\n",
    "def stockfish():\n",
    "    engine = chess.engine.SimpleEngine.popen_uci(\"/opt/homebrew/bin/stockfish\")\n",
    "    move = engine.play(board, chess.engine.Limit(time=0.1))\n",
    "    board.push(move.move)\n",
    "\n",
    "app = Flask(__name__)\n",
    "\n",
    "# Front Page of the Flask Web Page\n",
    "@app.route(\"/\")\n",
    "def main():\n",
    "    global count, board\n",
    "    ret = '<html><head>'\n",
    "    ret += '<style>input {font-size: 20px; } button { font-size: 20px; }</style>'\n",
    "    ret += '</head><body>'\n",
    "    ret += '<img width=510 height=510 src=\"/board.svg?%f\"></img></br></br>' % time.time()\n",
    "    ret += '<form action=\"/game/\" method=\"post\"><button name=\"New Game\" type=\"submit\">New Game</button></form>'\n",
    "    ret += '<form action=\"/undo/\" method=\"post\"><button name=\"Undo\" type=\"submit\">Undo Last Move</button></form>'\n",
    "    ret += '<form action=\"/move/\"><input type=\"submit\" value=\"Make Human Move:\"><input name=\"move\" type=\"text\"></input></form>'\n",
    "    ret += '<form action=\"/dev/\" method=\"post\"><button name=\"Comp Move\" type=\"submit\">Make Ai Move</button></form>'\n",
    "    ret += '<form action=\"/engine/\" method=\"post\"><button name=\"Stockfish Move\" type=\"submit\">Make Stockfish Move</button></form>'\n",
    "\n",
    "    return ret\n",
    "\n",
    "# Display Board\n",
    "@app.route(\"/board.svg/\")\n",
    "def board():\n",
    "    return Response(chess.svg.board(board=board, size=700), mimetype='image/svg+xml')\n",
    "\n",
    "# Human Move\n",
    "@app.route(\"/move/\")\n",
    "def move():\n",
    "    try:\n",
    "        move = request.args.get('move', default=\"\")\n",
    "        board.push_san(move)\n",
    "    except Exception:\n",
    "        traceback.print_exc()\n",
    "    \n",
    "    return main()\n",
    "\n",
    "# Make AI’s Move\n",
    "@app.route(\"/dev/\", methods=['POST'])\n",
    "def dev():\n",
    "    try:\n",
    "        aimove()\n",
    "    except Exception:\n",
    "        traceback.print_exc()\n",
    "    \n",
    "    return main()\n",
    "\n",
    "# Make UCI Compatible engine's move\n",
    "@app.route(\"/engine/\", methods=['POST'])\n",
    "def engine():\n",
    "    try:\n",
    "        stockfish()\n",
    "    except Exception:\n",
    "        traceback.print_exc()\n",
    "    \n",
    "    return main()\n",
    "\n",
    "# New Game\n",
    "@app.route(\"/game/\", methods=['POST'])\n",
    "def game():\n",
    "    board.reset()\n",
    "    \n",
    "    return main()\n",
    "\n",
    "# Undo\n",
    "@app.route(\"/undo/\", methods=['POST'])\n",
    "def undo():\n",
    "    try:\n",
    "        board.pop()\n",
    "    except Exception:\n",
    "        traceback.print_exc()\n",
    "        \n",
    "    return main()"
   ]
  },
  {
   "cell_type": "code",
   "execution_count": null,
   "id": "8d39e608",
   "metadata": {
    "ExecuteTime": {
     "start_time": "2022-12-13T18:09:33.304Z"
    }
   },
   "outputs": [],
   "source": [
    "max_depth = 5\n",
    "\n",
    "move_counter = 0\n",
    "open_game = 8\n",
    "\n",
    "board = chess.Board()\n",
    "webbrowser.open(\"http://127.0.0.1:5000/\")\n",
    "app.run()"
   ]
  }
 ],
 "metadata": {
  "kernelspec": {
   "display_name": "Python 3 (ipykernel)",
   "language": "python",
   "name": "python3"
  },
  "language_info": {
   "codemirror_mode": {
    "name": "ipython",
    "version": 3
   },
   "file_extension": ".py",
   "mimetype": "text/x-python",
   "name": "python",
   "nbconvert_exporter": "python",
   "pygments_lexer": "ipython3",
   "version": "3.10.8"
  }
 },
 "nbformat": 4,
 "nbformat_minor": 5
}
